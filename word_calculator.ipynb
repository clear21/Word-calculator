{
 "cells": [
  {
   "cell_type": "code",
   "execution_count": 3,
   "metadata": {},
   "outputs": [],
   "source": [
    "import pickle\n",
    "import json\n",
    "\n",
    "import numpy as np\n",
    "from numpy.linalg import norm\n",
    "import pandas as pd\n",
    "import re\n",
    "\n",
    "from keras.utils import to_categorical\n",
    "\n",
    "from googletrans import Translator\n",
    "\n",
    "import datetime\n",
    "import time\n",
    "\n",
    "import os\n",
    "\n",
    "#このpgmの格納フォルダ\n",
    "this_pgm_folder = os.getcwd()"
   ]
  },
  {
   "cell_type": "code",
   "execution_count": 7,
   "metadata": {
    "collapsed": true
   },
   "outputs": [],
   "source": [
    "#pickleでファイル保存\n",
    "#引数：保存対象オブジェクト、ファイル名(拡張子なし)\n",
    "def save_as_pickle(obj , fname):\n",
    "    fname_with_extension = fname + '.txt'\n",
    "    fw = open(fname_with_extension , 'wb')\n",
    "    pickle.dump(obj , fw)\n",
    "    fw.close()\n",
    "    #files.download(fname_with_extension)\n",
    "\n",
    "#pickleデータを取得\n",
    "#引数：対象ファイルのパス\n",
    "def import_pickle(fpass):\n",
    "    fr = open(fpass , 'rb')\n",
    "    f = pickle.load(fr)\n",
    "    fr.close()\n",
    "    return f\n",
    "\n",
    "#◆jsonファイルで保存\n",
    "#引数：保存対象オブジェクト、ファイル名(拡張子なし)\n",
    "def save_as_json(obj , fname):\n",
    "    json_fname_with_extension = fname + '.json'\n",
    "    fw = open(json_fname_with_extension , 'w')\n",
    "    json.dump(obj , fw , indent = 4)\n",
    "    fw.close()\n",
    "    #files.download(json_fname_with_extension)\n",
    "\n",
    "#◆jsonファイルを取得\n",
    "#引数：対象ファイルのパス\n",
    "def import_json(fpass):\n",
    "    fr = open(fpass , 'r')\n",
    "    f = json.load(fr)\n",
    "    fr.close()\n",
    "    return f\n",
    "\n",
    "\n",
    "\n",
    "\n",
    "#各単語の分散表現取得\n",
    "#引数：単語toIDの辞書、重み行列\n",
    "#戻り値；単語to分散表現のリスト\n",
    "def get_distributed_representation(word2id , weights):\n",
    "    word2disvec = {}\n",
    "    for word , wid in word2id.items():\n",
    "        #one-hot化\n",
    "        oh_vec = to_categorical(wid , num_classes = len(word2id) + 1)\n",
    "        #分散表現\n",
    "        word2disvec[word] = np.dot(oh_vec , weights)\n",
    "    \n",
    "    return word2disvec\n",
    "    \n",
    "    \n",
    "#関連単語top（単語が引数）\n",
    "#引数：対象単語、単語to分散表現のリスト（get_distributed_representationの戻り値）、出力する関連単語上位 n \n",
    "def related_word_top(given_word , word2disvec , top_num):\n",
    "    #対象単語の分散表現取得\n",
    "    given_disvec = word2disvec[given_word]\n",
    "    \n",
    "    #キー：単語、値：コサイン類似度　の辞書。（対象単語以外）\n",
    "    dict_cos_degree = {}\n",
    "    for word , disvec in word2disvec.items():\n",
    "        if word == given_word:\n",
    "            continue\n",
    "        else:\n",
    "            cos_degree = np.dot(given_disvec , disvec) / (norm(given_disvec) * norm(disvec))\n",
    "            dict_cos_degree[word] = cos_degree\n",
    "            \n",
    "            #print('word' , word , 'cos_degree' ,  cos_degree)\n",
    "    \n",
    "    #リスト型\n",
    "    return sorted(dict_cos_degree.items() , key = lambda x : -x[1])[:top_num]\n",
    "            \n",
    "#関連単語top（ベクトルが引数）\n",
    "#引数：対象ベクトル、単語to分散表現のリスト（get_distributed_representationの戻り値）、出力する関連単語上位 n \n",
    "def related_word_top_for_given_disvec(given_disvec , word2disvec , top_num):\n",
    "    #対象単語の分散表現取得\n",
    "    #given_disvec = word2disvec[given_word]\n",
    "    \n",
    "    #キー：単語、値：コサイン類似度　の辞書。（対象単語以外）\n",
    "    dict_cos_degree = {}\n",
    "    for word , disvec in word2disvec.items():\n",
    "        if disvec is given_disvec:\n",
    "            continue\n",
    "        else:\n",
    "            cos_degree = np.dot(given_disvec , disvec) / (norm(given_disvec) * norm(disvec))\n",
    "            dict_cos_degree[word] = cos_degree\n",
    "            \n",
    "            #print('word' , word , 'cos_degree' ,  cos_degree)\n",
    "    \n",
    "    #リスト型\n",
    "    return sorted(dict_cos_degree.items() , key = lambda x : -x[1])[:top_num]     \n"
   ]
  },
  {
   "cell_type": "code",
   "execution_count": 8,
   "metadata": {},
   "outputs": [],
   "source": [
    "#重み行列\n",
    "wights_pass = os.path.join(this_pgm_folder , 'model_etc' , 'weights.txt')\n",
    "weights = import_pickle(wights_pass)\n",
    "\n",
    "#単語2id、id2単語\n",
    "word2id_pass = os.path.join(this_pgm_folder , 'model_etc' , 'word2id.json')\n",
    "id2word_pass = os.path.join(this_pgm_folder , 'model_etc' , 'id2word.json')\n",
    "word2id = import_json(word2id_pass)\n",
    "id2word = import_json(id2word_pass)\n",
    "\n",
    "#単語2分散表現(ローカルだと処理に時間かかるのでファイルimport)\n",
    "#start = datetime.datetime.now()\n",
    "\n",
    "word2disvec_pass = os.path.join(this_pgm_folder , 'model_etc' , 'word2disvec.txt')\n",
    "word2disvec = import_pickle(word2disvec_pass)\n",
    "#word2disvec = get_distributed_representation(word2id , weights)\n",
    "\n",
    "#end = datetime.datetime.now()\n",
    "#print('word2disvec_processing_time :' , end - start)\n",
    "\n",
    "#単語リスト（昇順）＋連番のリスト（ユーザー選択時使用）、その連番と分散表現の辞書\n",
    "words_list = list(zip(sorted([word for word , id_ in word2id.items()]) , [i for i in range(len(word2id))]))\n",
    "id2disvec_wordslist = { id_ : word2disvec[word] for word , id_  in words_list}"
   ]
  },
  {
   "cell_type": "code",
   "execution_count": 4,
   "metadata": {
    "collapsed": true
   },
   "outputs": [],
   "source": [
    "#pass_ = r'C:\\Users\\Takayoshi_Hoshino\\Desktop\\フリーランス\\ポートフォリオ\\AI\\言語処理\\text8(wiki)\\【for_apllication_pgm】model_etc\\word2disvec'\n",
    "#save_as_pickle(word2disvec , pass_)"
   ]
  },
  {
   "cell_type": "code",
   "execution_count": 4,
   "metadata": {
    "collapsed": true
   },
   "outputs": [],
   "source": [
    "#words_list_pass = r'C:\\Users\\Takayoshi_Hoshino\\Desktop\\フリーランス\\ポートフォリオ\\AI\\言語処理\\text8(wiki)\\【for_apllication_pgm】model_etc\\words_list.xlsx'\n",
    "#pd.DataFrame(words_list , columns = ['word' , 'number']).to_excel(words_list_pass)"
   ]
  },
  {
   "cell_type": "code",
   "execution_count": 9,
   "metadata": {
    "collapsed": true
   },
   "outputs": [],
   "source": [
    "#戻り値：'continue'（継続する場合）、'end'（終了する場合）\n",
    "def main_1_calc():\n",
    "    continue_ = 'continue'\n",
    "    end = 'end'\n",
    "    \n",
    "    #演算（第一引数　ー　第二引数　or 第一引数　＋　第二引数）※演算子は第三引数で指定\n",
    "    #引数：単語連番（words_listの番号）、単語連番（words_listの番号）\n",
    "    def calc_vec(vec_1 , vec_2 , operation):\n",
    "        #足し算\n",
    "        if operation == '+':\n",
    "            return vec_1 + vec_2\n",
    "        elif operation == '-':\n",
    "            return vec_1 - vec_2\n",
    "        \n",
    "    #単語を表示して、演算式を表示（確認用）\n",
    "    #引数：要素リスト、演算子リスト\n",
    "    def print_calc_words(calc_entry_decomp , calc_operation_decomp):\n",
    "        words = list(map(lambda id_ : list(filter(lambda x : str(x[1]) == str(id_) , words_list))[0][0] , calc_entry_decomp))\n",
    "        operation = calc_operation_decomp + ['']\n",
    "        zip_list = list(zip(words , operation))\n",
    "        \n",
    "        arithmeric_expression_list = []\n",
    "        arithmeric_expression_list.append(zip_list[0][0])        \n",
    "        arithmeric_expression_list = arithmeric_expression_list + [str(zip_list[i][1]) + ' ' + str(zip_list[i + 1][0]) for i in range(len(zip_list) - 1)]\n",
    "        return ' '.join(arithmeric_expression_list)\n",
    "    \n",
    "    print('単語IDを使って、演算式を入力してください。(例：「1 + 2 - 3」)')\n",
    "    input_calc_str = input('演算式（終了する場合は「0」）：')\n",
    "    \n",
    "    #終了する場合\n",
    "    if str(input_calc_str) == '0':\n",
    "        return end\n",
    "    \n",
    "    #演算式の要素をリスト化\n",
    "    calc_entry_decomp_tmp = re.sub(r'\\D' , '@' , input_calc_str.replace(' ' , '')).replace(' ' , '')\n",
    "    calc_entry_decomp = [x for x in calc_entry_decomp_tmp.split('@')]\n",
    "    \n",
    "    #演算式の演算子をリスト化\n",
    "    calc_operation_decomp_tmp = re.sub(r'\\d' , '' , input_calc_str).replace(' ' , '')\n",
    "    calc_operation_decomp = [x for x in calc_operation_decomp_tmp]\n",
    "    \n",
    "    #要素数 = 演算子 + 1 かを確認\n",
    "    if len(calc_entry_decomp) != len(calc_operation_decomp) + 1:\n",
    "        print('式が正しくありません。再度入力してください。')\n",
    "        print()\n",
    "        return continue_\n",
    "    \n",
    "    print_calc_words_ = print_calc_words(calc_entry_decomp , calc_operation_decomp)\n",
    "    print('演算式：' , print_calc_words_)\n",
    "    #okならば y 、入力し直す場合は n\n",
    "    expession_ok_flg = input('上記の式でよろしいでしょうか？ y/n：')\n",
    "    if expession_ok_flg != 'y':\n",
    "        print('式が正しくありません。再度入力してください。')\n",
    "        print()\n",
    "        return continue_ \n",
    "    \n",
    "    #演算処理\n",
    "    #zip化、終了判定のため、追加\n",
    "    calc_result_vec = None\n",
    "    \n",
    "    if len(calc_operation_decomp) == 1:\n",
    "        calc_result_vec = id2disvec_wordslist[int(calc_entry_decomp[0])]\n",
    "    else:\n",
    "        for i in range(len(calc_entry_decomp) - 1):        \n",
    "            vec_1 = id2disvec_wordslist[int(calc_entry_decomp[i])] if i == 0 else calc_result_vec\n",
    "            vec_2 = id2disvec_wordslist[int(calc_entry_decomp[i + 1])]\n",
    "            operation = calc_operation_decomp[i]\n",
    "            calc_result_vec = calc_vec(vec_1 , vec_2 , operation)\n",
    "    \n",
    "    #出力する上位関連単語数\n",
    "    top_num = int(input('表示する関連単語数を入力してください。(1~' + str(len(word2disvec)) + ')：'))\n",
    "    \n",
    "    #関連単語リスト作成、結果出力\n",
    "    print('...')\n",
    "    top_related_words_list = related_word_top_for_given_disvec(calc_result_vec , word2disvec , top_num)\n",
    "    \n",
    "    for i in range(len(top_related_words_list)):\n",
    "        word = top_related_words_list[i][0]\n",
    "        degree_of_similarity = top_related_words_list[i][1]\n",
    "        \n",
    "        print('{0}位： {1} (類似度：{2}%)'.format(i+1 , word , round(degree_of_similarity * 100 , 2)))\n",
    "        \n",
    "    #継続確認\n",
    "    continue_flg = input('演算を続けますか？ y/n：')\n",
    "    if continue_flg == 'y':\n",
    "        return continue_\n",
    "    else:\n",
    "        return end\n",
    "    "
   ]
  },
  {
   "cell_type": "code",
   "execution_count": 10,
   "metadata": {
    "scrolled": true
   },
   "outputs": [
    {
     "name": "stdout",
     "output_type": "stream",
     "text": [
      "------start------\n",
      "単語IDを使って、演算式を入力してください。(例：「1 + 2 - 3」)\n",
      "演算式（終了する場合は「0」）：34872 - 38724 + 67978 + 67978\n",
      "演算式： king - man + woman + woman\n",
      "上記の式でよろしいでしょうか？ y/n：y\n",
      "表示する関連単語数を入力してください。(1~69258)：10\n",
      "...\n",
      "1位： woman (類似度：89.25%)\n",
      "2位： palaeologus (類似度：85.89%)\n",
      "3位： crushes (類似度：85.76%)\n",
      "4位： infanta (類似度：84.98%)\n",
      "5位： holwg (類似度：84.8%)\n",
      "6位： memel (類似度：84.71%)\n",
      "7位： fountainheads (類似度：84.68%)\n",
      "8位： torgau (類似度：84.63%)\n",
      "9位： septimius (類似度：84.59%)\n",
      "10位： involvements (類似度：84.56%)\n",
      "演算を続けますか？ y/n：n\n",
      "------end------\n"
     ]
    }
   ],
   "source": [
    "#king 34872\n",
    "#man 38724\n",
    "#woman 67978\n",
    "\n",
    "#メイン処理\n",
    "print('------start------')\n",
    "\n",
    "continue_flg = ''\n",
    "while(continue_flg != 'end'):\n",
    "    continue_flg = main_1_calc()\n",
    "\n",
    "print('------end------')"
   ]
  },
  {
   "cell_type": "code",
   "execution_count": null,
   "metadata": {
    "collapsed": true
   },
   "outputs": [],
   "source": []
  },
  {
   "cell_type": "code",
   "execution_count": null,
   "metadata": {
    "collapsed": true,
    "scrolled": true
   },
   "outputs": [],
   "source": []
  },
  {
   "cell_type": "code",
   "execution_count": null,
   "metadata": {
    "collapsed": true
   },
   "outputs": [],
   "source": []
  },
  {
   "cell_type": "code",
   "execution_count": null,
   "metadata": {
    "collapsed": true
   },
   "outputs": [],
   "source": []
  },
  {
   "cell_type": "code",
   "execution_count": null,
   "metadata": {
    "collapsed": true
   },
   "outputs": [],
   "source": []
  },
  {
   "cell_type": "code",
   "execution_count": null,
   "metadata": {
    "collapsed": true
   },
   "outputs": [],
   "source": [
    "#beatles 7117\n",
    "#england 21422\n",
    "#america 2682\n",
    "#japan 33162\n",
    "#genius 25795\n",
    "#math 39490\n",
    "#psychology 50616\n",
    "#adler 915"
   ]
  }
 ],
 "metadata": {
  "kernelspec": {
   "display_name": "Python 3",
   "language": "python",
   "name": "python3"
  },
  "language_info": {
   "codemirror_mode": {
    "name": "ipython",
    "version": 3
   },
   "file_extension": ".py",
   "mimetype": "text/x-python",
   "name": "python",
   "nbconvert_exporter": "python",
   "pygments_lexer": "ipython3",
   "version": "3.6.3"
  }
 },
 "nbformat": 4,
 "nbformat_minor": 2
}
